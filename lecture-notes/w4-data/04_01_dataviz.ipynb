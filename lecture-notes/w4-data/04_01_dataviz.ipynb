{
 "cells": [
  {
   "cell_type": "markdown",
   "metadata": {},
   "source": [
    "## Data Visualization\n",
    "- tools\n",
    "    - `seaborn` - generating plots\n",
    "    - `pandas` - wrangling data\n",
    "    - `matplotlib` - fine-tuning plots\n",
    "- plotting\n",
    "    - quantitative data\n",
    "    - categorical data\n",
    "- customizing visualizations"
   ]
  },
  {
   "cell_type": "markdown",
   "metadata": {},
   "source": [
    "A good data visualization can help you:\n",
    "- identify anomalies in your data\n",
    "- better understand your own data\n",
    "- communicate your findings"
   ]
  },
  {
   "cell_type": "markdown",
   "metadata": {},
   "source": [
    "### Quick Introduction: Basic Visualizations\n",
    "- histograms\n",
    "- densityplots\n",
    "- scatterplot\n",
    "- barplot\n",
    "    - grouped barplot\n",
    "    - stacked barplot\n",
    "- boxplot\n",
    "- line plot"
   ]
  },
  {
   "cell_type": "markdown",
   "metadata": {},
   "source": [
    "### Variable types: Plots\n",
    "- statistical/distribution of quantitative variable\n",
    "    - single variable\n",
    "        - histogram\n",
    "        - densityplot\n",
    "    - single variable x categorical variable\n",
    "        - boxplot\n",
    "- count data\n",
    "    - count data x categorical variable\n",
    "        - bar plot\n",
    "    - count data x 2 cat"
   ]
  },
  {
   "cell_type": "markdown",
   "metadata": {},
   "source": [
    "![](images/histogram.png)"
   ]
  },
  {
   "cell_type": "markdown",
   "metadata": {},
   "source": [
    "# Stacker Barplot\n",
    "### - Count / porportion of values broken down across two categorical variables"
   ]
  },
  {
   "cell_type": "markdown",
   "metadata": {},
   "source": [
    "# Boxplot\n",
    "### - Summary of a quantitative variable broken down by a categorical variable"
   ]
  },
  {
   "cell_type": "markdown",
   "metadata": {},
   "source": [
    "# "
   ]
  },
  {
   "cell_type": "markdown",
   "metadata": {},
   "source": [
    "![](images/histogram.png)"
   ]
  }
 ],
 "metadata": {
  "language_info": {
   "name": "python"
  },
  "orig_nbformat": 4
 },
 "nbformat": 4,
 "nbformat_minor": 2
}
